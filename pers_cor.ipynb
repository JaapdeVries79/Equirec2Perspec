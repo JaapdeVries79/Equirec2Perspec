{
 "cells": [
  {
   "cell_type": "markdown",
   "metadata": {},
   "source": [
    "# **1 Equirectangular to perspective correction**\n",
    "\n",
    "This scrip allows to correct equirectangular frames to be converted into regular perspective images without distrortion. This will allow pre-trained deep learning models to apply inference on coverted 360 images.\n",
    "\n",
    "## **1.1 Reference**\n",
    "\n",
    "The code was submitted to github by [Fuen Wang](https://github.com/fuenwang/Equirec2Perspec/commits?author=fuenwang)\n",
    "\n",
    "The code is downloaded from Githum [here](https://github.com/fuenwang/Equirec2Perspec)\n",
    "\n",
    "## **1.2 How the code works**\n",
    "\n",
    "### **1.2.1 How the code works**\n",
    "This is a two-step process, In the first step, an equirectangular frame is loaded. In the second step the conversion happens so that\n",
    "\n",
    "### **1.2.2 Load equirectangular image**\n",
    "`equ = E2P.Equirectangular('src/image.jpg')` \n",
    "\n",
    "### **1.2.3 Specify parameters(FOV, theta, phi, height, width)**   \n",
    "`img = equ.GetPerspective(FOV, theta, phi, height, width)`\n",
    "\n",
    "In this last step, \n",
    "\n",
    "* **FOV** is the field of view in degrees. For instance, a full frame (360-degree) equirectangular image can be split up in four directions of 90 degrees each.\n",
    "\n",
    "* **Theta** is the Z-axis (horizontal) angle (right positive, left negative)\n",
    "\n",
    "* **Phi** is the vertical angle (up/down, (up direction positive, down direction negative)\n",
    "\n",
    "* **The height** and width is output image dimension \n",
    "\n"
   ]
  },
  {
   "cell_type": "markdown",
   "metadata": {},
   "source": [
    "# 2 Example"
   ]
  },
  {
   "cell_type": "markdown",
   "metadata": {},
   "source": [
    "Start by importing the dependacies"
   ]
  },
  {
   "cell_type": "code",
   "execution_count": 19,
   "metadata": {},
   "outputs": [
    {
     "name": "stdout",
     "output_type": "stream",
     "text": [
      "done\n"
     ]
    }
   ],
   "source": [
    "import os\n",
    "import cv2 \n",
    "import Equirec2Perspec as E2P \n",
    "\n",
    "print('done')"
   ]
  },
  {
   "cell_type": "markdown",
   "metadata": {},
   "source": [
    "Load a sample image\n",
    "\n",
    "![title](src/test1.JPG)\n"
   ]
  },
  {
   "cell_type": "code",
   "execution_count": 20,
   "metadata": {},
   "outputs": [
    {
     "name": "stdout",
     "output_type": "stream",
     "text": [
      "done loading the image\n"
     ]
    }
   ],
   "source": [
    "# Load this image\n",
    "equ = E2P.Equirectangular('src/test1.JPG') \n",
    "\n",
    "print('done loading the image')"
   ]
  },
  {
   "cell_type": "code",
   "execution_count": 21,
   "metadata": {},
   "outputs": [
    {
     "name": "stdout",
     "output_type": "stream",
     "text": [
      "done converting the image\n"
     ]
    }
   ],
   "source": [
    "# Convert the image\n",
    "img = equ.GetPerspective(120, 150, -15, 720, 1080)\n",
    "\n",
    "print('done converting the image')"
   ]
  },
  {
   "cell_type": "code",
   "execution_count": 22,
   "metadata": {},
   "outputs": [
    {
     "data": {
      "text/plain": [
       "True"
      ]
     },
     "execution_count": 22,
     "metadata": {},
     "output_type": "execute_result"
    }
   ],
   "source": [
    "# Displaying the image\n",
    "cv2.imwrite('output.png',img)"
   ]
  },
  {
   "cell_type": "markdown",
   "metadata": {},
   "source": [
    "![converted image](output.png)"
   ]
  },
  {
   "cell_type": "code",
   "execution_count": null,
   "metadata": {},
   "outputs": [],
   "source": []
  }
 ],
 "metadata": {
  "kernelspec": {
   "display_name": "Python 3",
   "language": "python",
   "name": "python3"
  },
  "language_info": {
   "codemirror_mode": {
    "name": "ipython",
    "version": 3
   },
   "file_extension": ".py",
   "mimetype": "text/x-python",
   "name": "python",
   "nbconvert_exporter": "python",
   "pygments_lexer": "ipython3",
   "version": "3.6.9"
  }
 },
 "nbformat": 4,
 "nbformat_minor": 4
}
